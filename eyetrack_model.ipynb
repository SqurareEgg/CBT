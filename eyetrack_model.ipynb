{
 "cells": [
  {
   "cell_type": "code",
   "execution_count": 189,
   "outputs": [],
   "source": [
    "# from keras.applications import InceptionV3\n",
    "from keras.models import Sequential\n",
    "from keras.layers import Flatten, Dense, Conv2D, MaxPooling2D\n",
    "from keras.preprocessing.image import ImageDataGenerator\n",
    "\n",
    "import numpy as np\n",
    "import matplotlib.pyplot as plt"
   ],
   "metadata": {
    "collapsed": false,
    "ExecuteTime": {
     "end_time": "2023-12-04T08:10:07.017091Z",
     "start_time": "2023-12-04T08:10:06.989917200Z"
    }
   },
   "id": "4f2282ab7f18cdcb"
  },
  {
   "cell_type": "code",
   "execution_count": 190,
   "outputs": [],
   "source": [
    "# 데이터세트 전처리 및 준비\n",
    "train_generator = ImageDataGenerator(\n",
    "    rescale=1./255,\n",
    "    validation_split=0.2,\n",
    "    rotation_range=0.2,\n",
    ")"
   ],
   "metadata": {
    "collapsed": false,
    "ExecuteTime": {
     "end_time": "2023-12-04T08:10:07.031090400Z",
     "start_time": "2023-12-04T08:10:06.993915200Z"
    }
   },
   "id": "5d410591a6d660a4"
  },
  {
   "cell_type": "code",
   "execution_count": 191,
   "outputs": [],
   "source": [
    "test_generator = ImageDataGenerator(\n",
    "    rescale=1./255\n",
    ")"
   ],
   "metadata": {
    "collapsed": false,
    "ExecuteTime": {
     "end_time": "2023-12-04T08:10:07.085457900Z",
     "start_time": "2023-12-04T08:10:07.005572900Z"
    }
   },
   "id": "7fe7ae2264b59e7d"
  },
  {
   "cell_type": "code",
   "execution_count": 192,
   "outputs": [
    {
     "name": "stdout",
     "output_type": "stream",
     "text": [
      "Found 74 images belonging to 4 classes.\n"
     ]
    }
   ],
   "source": [
    "train_flow = train_generator.flow_from_directory(\n",
    "    directory=\"get_eye/samples/train\",\n",
    "    shuffle=True,\n",
    "    target_size=(80, 80),\n",
    "    class_mode=\"categorical\",\n",
    "    batch_size=8,\n",
    "    subset= \"training\" # training, test, validation\n",
    ")"
   ],
   "metadata": {
    "collapsed": false,
    "ExecuteTime": {
     "end_time": "2023-12-04T08:10:07.086443500Z",
     "start_time": "2023-12-04T08:10:07.019089800Z"
    }
   },
   "id": "909e42ec8b829118"
  },
  {
   "cell_type": "code",
   "execution_count": 193,
   "outputs": [
    {
     "name": "stdout",
     "output_type": "stream",
     "text": [
      "Found 16 images belonging to 4 classes.\n"
     ]
    }
   ],
   "source": [
    "val_flow = train_generator.flow_from_directory(\n",
    "    directory=\"get_eye/samples/train\",\n",
    "    shuffle=True,\n",
    "    target_size=(80, 80),\n",
    "    class_mode=\"categorical\",\n",
    "    batch_size=8,\n",
    "    subset= \"validation\" # training, test, validation\n",
    ")"
   ],
   "metadata": {
    "collapsed": false,
    "ExecuteTime": {
     "end_time": "2023-12-04T08:10:07.087444500Z",
     "start_time": "2023-12-04T08:10:07.042294900Z"
    }
   },
   "id": "bb63df11999225cb"
  },
  {
   "cell_type": "code",
   "execution_count": 194,
   "outputs": [
    {
     "name": "stdout",
     "output_type": "stream",
     "text": [
      "Found 12 images belonging to 4 classes.\n"
     ]
    }
   ],
   "source": [
    "test_flow = test_generator.flow_from_directory(\n",
    "    directory=\"get_eye/samples/test\",\n",
    "    shuffle=False,\n",
    "    target_size=(80, 80),\n",
    "    class_mode=\"categorical\",\n",
    "    batch_size=8,\n",
    ")"
   ],
   "metadata": {
    "collapsed": false,
    "ExecuteTime": {
     "end_time": "2023-12-04T08:10:07.087444500Z",
     "start_time": "2023-12-04T08:10:07.060444100Z"
    }
   },
   "id": "ac84a4500ab8c95e"
  },
  {
   "cell_type": "code",
   "execution_count": 195,
   "outputs": [],
   "source": [
    "# model = Sequential()\n",
    "# pretrained_model = InceptionV3(\n",
    "#     weights=\"imagenet\",\n",
    "#     input_shape=(75, 75, 3),\n",
    "#     include_top=False,  # 출력층을 배제하겠다.\n",
    "# )\n",
    "# model.add(pretrained_model)\n",
    "# model.add(Flatten())\n",
    "# model.add(Dense(8))\n",
    "# model.add(Dense(4, activation=\"softmax\"))\n",
    "\n",
    "model = Sequential()\n",
    "model.add(Conv2D(8, kernel_size=(3, 3), activation='relu',\n",
    "                 padding=\"valid\", input_shape=(80, 80, 3)))\n",
    "model.add(MaxPooling2D(pool_size=(2, 2)))\n",
    "model.add(Conv2D(8, kernel_size=(3, 3), activation='relu',\n",
    "                 padding=\"valid\"))\n",
    "model.add(MaxPooling2D(pool_size=(2, 2)))\n",
    "model.add(Flatten())\n",
    "model.add(Dense(256, activation='relu'))\n",
    "model.add(Dense(4, activation='softmax'))"
   ],
   "metadata": {
    "collapsed": false,
    "ExecuteTime": {
     "end_time": "2023-12-04T08:10:07.185025400Z",
     "start_time": "2023-12-04T08:10:07.077444500Z"
    }
   },
   "id": "bfef48ad65224122"
  },
  {
   "cell_type": "code",
   "execution_count": 196,
   "outputs": [
    {
     "name": "stdout",
     "output_type": "stream",
     "text": [
      "Model: \"sequential_15\"\n",
      "_________________________________________________________________\n",
      " Layer (type)                Output Shape              Param #   \n",
      "=================================================================\n",
      " conv2d_760 (Conv2D)         (None, 78, 78, 8)         224       \n",
      "                                                                 \n",
      " max_pooling2d_40 (MaxPooli  (None, 39, 39, 8)         0         \n",
      " ng2D)                                                           \n",
      "                                                                 \n",
      " conv2d_761 (Conv2D)         (None, 37, 37, 8)         584       \n",
      "                                                                 \n",
      " max_pooling2d_41 (MaxPooli  (None, 18, 18, 8)         0         \n",
      " ng2D)                                                           \n",
      "                                                                 \n",
      " flatten_12 (Flatten)        (None, 2592)              0         \n",
      "                                                                 \n",
      " dense_17 (Dense)            (None, 256)               663808    \n",
      "                                                                 \n",
      " dense_18 (Dense)            (None, 4)                 1028      \n",
      "                                                                 \n",
      "=================================================================\n",
      "Total params: 665644 (2.54 MB)\n",
      "Trainable params: 665644 (2.54 MB)\n",
      "Non-trainable params: 0 (0.00 Byte)\n",
      "_________________________________________________________________\n"
     ]
    }
   ],
   "source": [
    "model.summary()"
   ],
   "metadata": {
    "collapsed": false,
    "ExecuteTime": {
     "end_time": "2023-12-04T08:10:07.195292Z",
     "start_time": "2023-12-04T08:10:07.160026300Z"
    }
   },
   "id": "7cead0b661d5be47"
  },
  {
   "cell_type": "code",
   "execution_count": 197,
   "outputs": [],
   "source": [
    "model.compile(\n",
    "    optimizer=\"adam\",\n",
    "    loss=\"categorical_crossentropy\",\n",
    "    metrics=[\"accuracy\"],\n",
    ")"
   ],
   "metadata": {
    "collapsed": false,
    "ExecuteTime": {
     "end_time": "2023-12-04T08:10:07.221805600Z",
     "start_time": "2023-12-04T08:10:07.185025400Z"
    }
   },
   "id": "b21a7e3dafecbc38"
  },
  {
   "cell_type": "code",
   "execution_count": 198,
   "outputs": [
    {
     "name": "stdout",
     "output_type": "stream",
     "text": [
      "Epoch 1/30\n",
      "10/10 [==============================] - 2s 44ms/step - loss: 1.3959 - accuracy: 0.3378 - val_loss: 1.2949 - val_accuracy: 0.5625\n",
      "Epoch 2/30\n",
      "10/10 [==============================] - 0s 24ms/step - loss: 1.2013 - accuracy: 0.6757 - val_loss: 1.0780 - val_accuracy: 0.6250\n",
      "Epoch 3/30\n",
      "10/10 [==============================] - 0s 24ms/step - loss: 0.9429 - accuracy: 0.6351 - val_loss: 0.8203 - val_accuracy: 0.8750\n",
      "Epoch 4/30\n",
      "10/10 [==============================] - 0s 27ms/step - loss: 0.6685 - accuracy: 0.9324 - val_loss: 0.5613 - val_accuracy: 0.8750\n",
      "Epoch 5/30\n",
      "10/10 [==============================] - 0s 23ms/step - loss: 0.4243 - accuracy: 0.8919 - val_loss: 0.3170 - val_accuracy: 1.0000\n",
      "Epoch 6/30\n",
      "10/10 [==============================] - 0s 25ms/step - loss: 0.2445 - accuracy: 0.9459 - val_loss: 0.1668 - val_accuracy: 1.0000\n",
      "Epoch 7/30\n",
      "10/10 [==============================] - 0s 24ms/step - loss: 0.1463 - accuracy: 0.9865 - val_loss: 0.0987 - val_accuracy: 1.0000\n",
      "Epoch 8/30\n",
      "10/10 [==============================] - 0s 24ms/step - loss: 0.0792 - accuracy: 1.0000 - val_loss: 0.0511 - val_accuracy: 1.0000\n",
      "Epoch 9/30\n",
      "10/10 [==============================] - 0s 23ms/step - loss: 0.0579 - accuracy: 1.0000 - val_loss: 0.0487 - val_accuracy: 1.0000\n",
      "Epoch 10/30\n",
      "10/10 [==============================] - 0s 24ms/step - loss: 0.0227 - accuracy: 1.0000 - val_loss: 0.0185 - val_accuracy: 1.0000\n",
      "Epoch 11/30\n",
      "10/10 [==============================] - 0s 24ms/step - loss: 0.0160 - accuracy: 1.0000 - val_loss: 0.0183 - val_accuracy: 1.0000\n",
      "Epoch 12/30\n",
      "10/10 [==============================] - 0s 23ms/step - loss: 0.0116 - accuracy: 1.0000 - val_loss: 0.0093 - val_accuracy: 1.0000\n",
      "Epoch 13/30\n",
      "10/10 [==============================] - 0s 24ms/step - loss: 0.0090 - accuracy: 1.0000 - val_loss: 0.0079 - val_accuracy: 1.0000\n",
      "Epoch 14/30\n",
      "10/10 [==============================] - 0s 23ms/step - loss: 0.0075 - accuracy: 1.0000 - val_loss: 0.0076 - val_accuracy: 1.0000\n",
      "Epoch 15/30\n",
      "10/10 [==============================] - 0s 23ms/step - loss: 0.0064 - accuracy: 1.0000 - val_loss: 0.0053 - val_accuracy: 1.0000\n",
      "Epoch 16/30\n",
      "10/10 [==============================] - 0s 23ms/step - loss: 0.0053 - accuracy: 1.0000 - val_loss: 0.0051 - val_accuracy: 1.0000\n",
      "Epoch 17/30\n",
      "10/10 [==============================] - 0s 23ms/step - loss: 0.0044 - accuracy: 1.0000 - val_loss: 0.0039 - val_accuracy: 1.0000\n",
      "Epoch 18/30\n",
      "10/10 [==============================] - 0s 23ms/step - loss: 0.0039 - accuracy: 1.0000 - val_loss: 0.0041 - val_accuracy: 1.0000\n",
      "Epoch 19/30\n",
      "10/10 [==============================] - 0s 23ms/step - loss: 0.0035 - accuracy: 1.0000 - val_loss: 0.0030 - val_accuracy: 1.0000\n",
      "Epoch 20/30\n",
      "10/10 [==============================] - 0s 24ms/step - loss: 0.0031 - accuracy: 1.0000 - val_loss: 0.0030 - val_accuracy: 1.0000\n",
      "Epoch 21/30\n",
      "10/10 [==============================] - 0s 24ms/step - loss: 0.0027 - accuracy: 1.0000 - val_loss: 0.0024 - val_accuracy: 1.0000\n",
      "Epoch 22/30\n",
      "10/10 [==============================] - 0s 24ms/step - loss: 0.0025 - accuracy: 1.0000 - val_loss: 0.0025 - val_accuracy: 1.0000\n",
      "Epoch 23/30\n",
      "10/10 [==============================] - 0s 23ms/step - loss: 0.0023 - accuracy: 1.0000 - val_loss: 0.0020 - val_accuracy: 1.0000\n",
      "Epoch 24/30\n",
      "10/10 [==============================] - 0s 25ms/step - loss: 0.0020 - accuracy: 1.0000 - val_loss: 0.0021 - val_accuracy: 1.0000\n",
      "Epoch 25/30\n",
      "10/10 [==============================] - 0s 24ms/step - loss: 0.0018 - accuracy: 1.0000 - val_loss: 0.0019 - val_accuracy: 1.0000\n",
      "Epoch 26/30\n",
      "10/10 [==============================] - 0s 24ms/step - loss: 0.0017 - accuracy: 1.0000 - val_loss: 0.0015 - val_accuracy: 1.0000\n",
      "Epoch 27/30\n",
      "10/10 [==============================] - 0s 23ms/step - loss: 0.0015 - accuracy: 1.0000 - val_loss: 0.0016 - val_accuracy: 1.0000\n",
      "Epoch 28/30\n",
      "10/10 [==============================] - 0s 23ms/step - loss: 0.0015 - accuracy: 1.0000 - val_loss: 0.0015 - val_accuracy: 1.0000\n",
      "Epoch 29/30\n",
      "10/10 [==============================] - 0s 24ms/step - loss: 0.0013 - accuracy: 1.0000 - val_loss: 0.0012 - val_accuracy: 1.0000\n",
      "Epoch 30/30\n",
      "10/10 [==============================] - 0s 24ms/step - loss: 0.0012 - accuracy: 1.0000 - val_loss: 0.0013 - val_accuracy: 1.0000\n"
     ]
    }
   ],
   "source": [
    "hist = model.fit(train_flow, epochs=30,\n",
    "                 validation_data=val_flow)"
   ],
   "metadata": {
    "collapsed": false,
    "ExecuteTime": {
     "end_time": "2023-12-04T08:10:16.855115300Z",
     "start_time": "2023-12-04T08:10:07.203807Z"
    }
   },
   "id": "a4f6acd39d07fa63"
  },
  {
   "cell_type": "code",
   "execution_count": 199,
   "outputs": [
    {
     "data": {
      "text/plain": "<Figure size 640x480 with 1 Axes>",
      "image/png": "[encoded data removed]"
     },
     "metadata": {},
     "output_type": "display_data"
    }
   ],
   "source": [
    "plt.plot(hist.history[\"accuracy\"])\n",
    "plt.plot(hist.history[\"val_accuracy\"])\n",
    "plt.xlabel(\"Epochs\")\n",
    "plt.ylabel(\"Accuracy\")\n",
    "plt.title(\"Accuracy\")\n",
    "plt.legend([\"train\", \"valid\"])\n",
    "plt.show()"
   ],
   "metadata": {
    "collapsed": false,
    "ExecuteTime": {
     "end_time": "2023-12-04T08:10:17.009289400Z",
     "start_time": "2023-12-04T08:10:16.853117Z"
    }
   },
   "id": "e423530efce675f8"
  },
  {
   "cell_type": "code",
   "execution_count": 200,
   "outputs": [
    {
     "data": {
      "text/plain": "<Figure size 640x480 with 1 Axes>",
      "image/png": "[encoded data removed]"
     },
     "metadata": {},
     "output_type": "display_data"
    }
   ],
   "source": [
    "plt.plot(hist.history[\"loss\"])\n",
    "plt.plot(hist.history[\"val_loss\"])\n",
    "plt.xlabel(\"Epochs\")\n",
    "plt.ylabel(\"Loss\")\n",
    "plt.title(\"Loss\")\n",
    "plt.legend([\"train\", \"valid\"])\n",
    "plt.show()"
   ],
   "metadata": {
    "collapsed": false,
    "ExecuteTime": {
     "end_time": "2023-12-04T08:10:17.160976300Z",
     "start_time": "2023-12-04T08:10:17.006295600Z"
    }
   },
   "id": "b019742c712e9eae"
  },
  {
   "cell_type": "code",
   "execution_count": 201,
   "outputs": [
    {
     "name": "stdout",
     "output_type": "stream",
     "text": [
      "2/2 [==============================] - 0s 9ms/step - loss: 0.0467 - accuracy: 1.0000\n",
      "test loss: 0.0467379204928875\n",
      "test accuracy: 1.0\n"
     ]
    }
   ],
   "source": [
    "test_loss, test_acc = model.evaluate(test_flow)\n",
    "print(\"test loss:\", test_loss)\n",
    "print(\"test accuracy:\", test_acc)"
   ],
   "metadata": {
    "collapsed": false,
    "ExecuteTime": {
     "end_time": "2023-12-04T08:10:17.310314300Z",
     "start_time": "2023-12-04T08:10:17.156978900Z"
    }
   },
   "id": "76d07fecc463d558"
  },
  {
   "cell_type": "code",
   "execution_count": 210,
   "outputs": [],
   "source": [
    "from keras.preprocessing import image\n",
    "\n",
    "ground_truth = \"lb\"\n",
    "\n",
    "img = image.load_img(f\"./get_eye/samples/test/{ground_truth}/{ground_truth}_image0_0.png\",\n",
    "                     target_size=(80, 80))\n",
    "img = image.img_to_array(img)\n",
    "img = np.expand_dims(img, axis=0)"
   ],
   "metadata": {
    "collapsed": false,
    "ExecuteTime": {
     "end_time": "2023-12-04T08:10:49.428070600Z",
     "start_time": "2023-12-04T08:10:49.410189700Z"
    }
   },
   "id": "b0ba5be5f3aa4edf"
  },
  {
   "cell_type": "code",
   "execution_count": 211,
   "outputs": [
    {
     "name": "stdout",
     "output_type": "stream",
     "text": [
      "[[0. 0. 1. 0.]]\n",
      "rb\n"
     ]
    }
   ],
   "source": [
    "result_dict = {0: 'lb', 1: 'lt', 2: 'rb', 3: 'rt'}\n",
    "\n",
    "print(model.predict(img, verbose=0))\n",
    "print(result_dict[model.predict(img, verbose=0).argmax()])"
   ],
   "metadata": {
    "collapsed": false,
    "ExecuteTime": {
     "end_time": "2023-12-04T08:10:49.884056200Z",
     "start_time": "2023-12-04T08:10:49.739022600Z"
    }
   },
   "id": "ff77677e9addae3e"
  },
  {
   "cell_type": "code",
   "execution_count": 203,
   "outputs": [],
   "source": [],
   "metadata": {
    "collapsed": false,
    "ExecuteTime": {
     "end_time": "2023-12-04T08:10:17.497335100Z",
     "start_time": "2023-12-04T08:10:17.493756Z"
    }
   },
   "id": "b54f2d496aeaf249"
  }
 ],
 "metadata": {
  "kernelspec": {
   "display_name": "Python 3",
   "language": "python",
   "name": "python3"
  },
  "language_info": {
   "codemirror_mode": {
    "name": "ipython",
    "version": 2
   },
   "file_extension": ".py",
   "mimetype": "text/x-python",
   "name": "python",
   "nbconvert_exporter": "python",
   "pygments_lexer": "ipython2",
   "version": "2.7.6"
  }
 },
 "nbformat": 4,
 "nbformat_minor": 5
}
